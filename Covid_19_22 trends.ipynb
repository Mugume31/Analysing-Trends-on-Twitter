{
 "cells": [
  {
   "cell_type": "code",
   "execution_count": 1,
   "id": "9aefca3d",
   "metadata": {},
   "outputs": [],
   "source": [
    "import pandas as pd\n",
    "import re\n",
    "import seaborn as sns\n",
    "import numpy as np"
   ]
  },
  {
   "cell_type": "code",
   "execution_count": 2,
   "id": "d4ec5e06",
   "metadata": {},
   "outputs": [],
   "source": [
    "df= pd.read_json(\"/Users/mugzi/covid_19.json\",lines=True)"
   ]
  },
  {
   "cell_type": "code",
   "execution_count": 3,
   "id": "4acd6b82",
   "metadata": {},
   "outputs": [
    {
     "data": {
      "text/plain": [
       "'/Users/mugzi/data_sets_analysis'"
      ]
     },
     "execution_count": 3,
     "metadata": {},
     "output_type": "execute_result"
    }
   ],
   "source": [
    "import os \n",
    "os.getcwd()"
   ]
  },
  {
   "cell_type": "code",
   "execution_count": 4,
   "id": "8247bba3",
   "metadata": {},
   "outputs": [],
   "source": [
    "def clean_txt(text):\n",
    "    text = re.sub(r\"@[A-za-z0-9]+\",\" \",text) #remove mentions \n",
    "    text = re.sub(r\"#\", \" \", text) #remove hashtag symbol\n",
    "    text = re.sub(r\"RT[\\s]+\",\" \", text) #removing rt\n",
    "    text = re.sub(r\"http[s]?\",\" \", text)\n",
    "    text = re.sub(r\":\\S+\",\" \",text)\n",
    "    "
   ]
  },
  {
   "cell_type": "code",
   "execution_count": 5,
   "id": "a550b659",
   "metadata": {},
   "outputs": [],
   "source": [
    "df[\"tweet\"]= df[\"tweet\"].apply(clean_txt)"
   ]
  },
  {
   "cell_type": "code",
   "execution_count": 6,
   "id": "3edcdc9d",
   "metadata": {},
   "outputs": [
    {
     "name": "stdout",
     "output_type": "stream",
     "text": [
      "<class 'pandas.core.frame.DataFrame'>\n",
      "RangeIndex: 74332 entries, 0 to 74331\n",
      "Data columns (total 36 columns):\n",
      " #   Column           Non-Null Count  Dtype                               \n",
      "---  ------           --------------  -----                               \n",
      " 0   id               74332 non-null  int64                               \n",
      " 1   conversation_id  74332 non-null  int64                               \n",
      " 2   created_at       74332 non-null  datetime64[ns, pytz.FixedOffset(60)]\n",
      " 3   date             74332 non-null  datetime64[ns]                      \n",
      " 4   time             74332 non-null  object                              \n",
      " 5   timezone         74332 non-null  int64                               \n",
      " 6   user_id          74332 non-null  int64                               \n",
      " 7   username         74332 non-null  object                              \n",
      " 8   name             74332 non-null  object                              \n",
      " 9   place            74332 non-null  object                              \n",
      " 10  tweet            0 non-null      object                              \n",
      " 11  language         74332 non-null  object                              \n",
      " 12  mentions         74332 non-null  object                              \n",
      " 13  urls             74332 non-null  object                              \n",
      " 14  photos           74332 non-null  object                              \n",
      " 15  replies_count    74332 non-null  int64                               \n",
      " 16  retweets_count   74332 non-null  int64                               \n",
      " 17  likes_count      74332 non-null  int64                               \n",
      " 18  hashtags         74332 non-null  object                              \n",
      " 19  cashtags         74332 non-null  object                              \n",
      " 20  link             74332 non-null  object                              \n",
      " 21  retweet          74332 non-null  bool                                \n",
      " 22  quote_url        74332 non-null  object                              \n",
      " 23  video            74332 non-null  int64                               \n",
      " 24  thumbnail        74332 non-null  object                              \n",
      " 25  near             74332 non-null  object                              \n",
      " 26  geo              74332 non-null  object                              \n",
      " 27  source           74332 non-null  object                              \n",
      " 28  user_rt_id       74332 non-null  object                              \n",
      " 29  user_rt          74332 non-null  object                              \n",
      " 30  retweet_id       74332 non-null  object                              \n",
      " 31  reply_to         74332 non-null  object                              \n",
      " 32  retweet_date     74332 non-null  object                              \n",
      " 33  translate        74332 non-null  object                              \n",
      " 34  trans_src        74332 non-null  object                              \n",
      " 35  trans_dest       74332 non-null  object                              \n",
      "dtypes: bool(1), datetime64[ns, pytz.FixedOffset(60)](1), datetime64[ns](1), int64(8), object(25)\n",
      "memory usage: 19.9+ MB\n"
     ]
    }
   ],
   "source": [
    "df.info()"
   ]
  },
  {
   "cell_type": "code",
   "execution_count": 7,
   "id": "61e6aa17",
   "metadata": {},
   "outputs": [],
   "source": [
    "df.to_csv(\"covid_19_22.csv\")"
   ]
  },
  {
   "cell_type": "code",
   "execution_count": null,
   "id": "cbc6cbe9",
   "metadata": {},
   "outputs": [],
   "source": []
  },
  {
   "cell_type": "code",
   "execution_count": null,
   "id": "bf7ab394",
   "metadata": {},
   "outputs": [],
   "source": []
  },
  {
   "cell_type": "code",
   "execution_count": null,
   "id": "8c867185",
   "metadata": {},
   "outputs": [],
   "source": []
  },
  {
   "cell_type": "code",
   "execution_count": null,
   "id": "6644d144",
   "metadata": {},
   "outputs": [],
   "source": []
  },
  {
   "cell_type": "code",
   "execution_count": null,
   "id": "96006529",
   "metadata": {},
   "outputs": [],
   "source": []
  },
  {
   "cell_type": "code",
   "execution_count": null,
   "id": "0eb09242",
   "metadata": {},
   "outputs": [],
   "source": []
  }
 ],
 "metadata": {
  "kernelspec": {
   "display_name": "Python 3 (ipykernel)",
   "language": "python",
   "name": "python3"
  },
  "language_info": {
   "codemirror_mode": {
    "name": "ipython",
    "version": 3
   },
   "file_extension": ".py",
   "mimetype": "text/x-python",
   "name": "python",
   "nbconvert_exporter": "python",
   "pygments_lexer": "ipython3",
   "version": "3.10.0"
  }
 },
 "nbformat": 4,
 "nbformat_minor": 5
}
