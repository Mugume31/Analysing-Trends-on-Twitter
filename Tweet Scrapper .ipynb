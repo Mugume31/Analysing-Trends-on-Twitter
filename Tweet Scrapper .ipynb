{
 "cells": [
  {
   "cell_type": "code",
   "execution_count": 1,
   "id": "92cf17dc",
   "metadata": {},
   "outputs": [],
   "source": [
    "import twint\n",
    "import pandas as pd\n",
    "import nest_asyncio\n",
    "nest_asyncio.apply()\n",
    "import re\n",
    "import matplotlib.pyplot as plt\n",
    "from wordcloud import WordCloud\n",
    "import numpy as np"
   ]
  },
  {
   "cell_type": "code",
   "execution_count": 58,
   "id": "6befe530",
   "metadata": {},
   "outputs": [
    {
     "name": "stdout",
     "output_type": "stream",
     "text": [
      "1572539879376158724 2022-09-21 11:54:58 +0100 <EssenProductsug> @blendysug @blendysug X @EssenProductsug 🔥🔥\n",
      "1572535610862366720 2022-09-21 11:38:00 +0100 <blendysug> Gift box idea for her 🥰. Only at 100k  @EssenProductsug * @blendysug  https://t.co/Og8oliKbQB\n",
      "1572267614956822528 2022-09-20 17:53:05 +0100 <blendysug> @Jude_Mugabi ☺️☺️ thank you please\n",
      "1571921048563601409 2022-09-19 18:55:57 +0100 <Jude_Mugabi> @blendysug\n",
      "1552177942461124608 2022-07-27 07:23:54 +0100 <ImaniMulungi> @blendysug My doctor won't be pleased at all😭\n",
      "1552172680249372674 2022-07-27 07:02:59 +0100 <blendysug> 😂😂😂😂\n",
      "1552165384467488768 2022-07-27 06:34:00 +0100 <AlvinKaly> @blendysug @kanyindo Out there to cause trouble with my sweet tooth.\n",
      "1552151017713766402 2022-07-27 05:36:54 +0100 <kanyindo> @AlvinKaly @blendysug Dear Sweet Baby Jesus in the Manger. These look delicious.\n",
      "1552147753697943554 2022-07-27 05:23:56 +0100 <blendysug> @AlvinKaly @kanyindo Hahhaa, thanks Alvin, you had Nutella brownies though 😅. These are chocolate peppermint slices 😊\n",
      "1551882207165390848 2022-07-26 11:48:45 +0100 <AlvinKaly> @kanyindo eh @blendysug done did it!!! Have you tried these yet?  https://t.co/OOoJgqxmKu\n",
      "1541086367773597699 2022-06-26 16:49:56 +0100 <blendysug> Awww, thank you Birungi. I’m glad you loved it 🥰\n",
      "1541071561154854913 2022-06-26 15:51:06 +0100 <BirungiWrites> @blendysug Made us an amazing cake for my mum's 50th.  https://t.co/Qgdf1Jmg1q\n",
      "1539156504737193986 2022-06-21 09:01:21 +0100 <blendysug> Adriana’s holy communion cake 🕊  https://t.co/uA55GqW6X2\n",
      "1538838028428402688 2022-06-20 11:55:50 +0100 <blendysug> @_Byarugaba_ @BatamukuwaK That’s also doable 😌\n",
      "1538825568648540161 2022-06-20 11:06:20 +0100 <BatamukuwaK> @blendysug  https://t.co/GP4TRfz6uA\n",
      "1538825376419713024 2022-06-20 11:05:34 +0100 <_Byarugaba_> @blendysug @BatamukuwaK Do you mind making them big fragments???\n",
      "1538824994930712576 2022-06-20 11:04:03 +0100 <blendysug> @BatamukuwaK Small fragments of the cookies 😊\n",
      "1538822274647830530 2022-06-20 10:53:14 +0100 <AlvinKaly> @blendysug Thank you\n",
      "1538820283909414912 2022-06-20 10:45:20 +0100 <blendysug> We’re happy you love them Alvin, thank you &amp; happy birthday 🎊🎈\n",
      "1538818229870727168 2022-06-20 10:37:10 +0100 <AlvinKaly> @kanyindo @blendysug Thank you guys for making today special for me. Well done Brenda. They taste wonderful\n",
      "[!] No more data! Scraping will stop now.\n",
      "found 0 deleted tweets in this search.\n"
     ]
    }
   ],
   "source": [
    "c = twint.Config()\n",
    "c.Search = \"blendysug\"\n",
    "c.Store_json = True\n",
    "c.Output = \"/Users/mugzi/blendys_1.json\"\n",
    "twint.run.Search(c)"
   ]
  },
  {
   "cell_type": "code",
   "execution_count": 59,
   "id": "4e53764e",
   "metadata": {},
   "outputs": [],
   "source": [
    "df = pd.read_json(\"/Users/mugzi/blendys_1.json\",lines=True)"
   ]
  },
  {
   "cell_type": "code",
   "execution_count": 60,
   "id": "fac193d3",
   "metadata": {},
   "outputs": [
    {
     "name": "stdout",
     "output_type": "stream",
     "text": [
      "<class 'pandas.core.frame.DataFrame'>\n",
      "RangeIndex: 20 entries, 0 to 19\n",
      "Data columns (total 36 columns):\n",
      " #   Column           Non-Null Count  Dtype                               \n",
      "---  ------           --------------  -----                               \n",
      " 0   id               20 non-null     int64                               \n",
      " 1   conversation_id  20 non-null     int64                               \n",
      " 2   created_at       20 non-null     datetime64[ns, pytz.FixedOffset(60)]\n",
      " 3   date             20 non-null     datetime64[ns]                      \n",
      " 4   time             20 non-null     object                              \n",
      " 5   timezone         20 non-null     int64                               \n",
      " 6   user_id          20 non-null     int64                               \n",
      " 7   username         20 non-null     object                              \n",
      " 8   name             20 non-null     object                              \n",
      " 9   place            20 non-null     object                              \n",
      " 10  tweet            20 non-null     object                              \n",
      " 11  language         20 non-null     object                              \n",
      " 12  mentions         20 non-null     object                              \n",
      " 13  urls             20 non-null     object                              \n",
      " 14  photos           20 non-null     object                              \n",
      " 15  replies_count    20 non-null     int64                               \n",
      " 16  retweets_count   20 non-null     int64                               \n",
      " 17  likes_count      20 non-null     int64                               \n",
      " 18  hashtags         20 non-null     object                              \n",
      " 19  cashtags         20 non-null     object                              \n",
      " 20  link             20 non-null     object                              \n",
      " 21  retweet          20 non-null     bool                                \n",
      " 22  quote_url        20 non-null     object                              \n",
      " 23  video            20 non-null     int64                               \n",
      " 24  thumbnail        20 non-null     object                              \n",
      " 25  near             20 non-null     object                              \n",
      " 26  geo              20 non-null     object                              \n",
      " 27  source           20 non-null     object                              \n",
      " 28  user_rt_id       20 non-null     object                              \n",
      " 29  user_rt          20 non-null     object                              \n",
      " 30  retweet_id       20 non-null     object                              \n",
      " 31  reply_to         20 non-null     object                              \n",
      " 32  retweet_date     20 non-null     object                              \n",
      " 33  translate        20 non-null     object                              \n",
      " 34  trans_src        20 non-null     object                              \n",
      " 35  trans_dest       20 non-null     object                              \n",
      "dtypes: bool(1), datetime64[ns, pytz.FixedOffset(60)](1), datetime64[ns](1), int64(8), object(25)\n",
      "memory usage: 5.6+ KB\n"
     ]
    }
   ],
   "source": [
    "df.info()"
   ]
  },
  {
   "cell_type": "code",
   "execution_count": 67,
   "id": "fd623260",
   "metadata": {},
   "outputs": [
    {
     "data": {
      "text/html": [
       "<div>\n",
       "<style scoped>\n",
       "    .dataframe tbody tr th:only-of-type {\n",
       "        vertical-align: middle;\n",
       "    }\n",
       "\n",
       "    .dataframe tbody tr th {\n",
       "        vertical-align: top;\n",
       "    }\n",
       "\n",
       "    .dataframe thead th {\n",
       "        text-align: right;\n",
       "    }\n",
       "</style>\n",
       "<table border=\"1\" class=\"dataframe\">\n",
       "  <thead>\n",
       "    <tr style=\"text-align: right;\">\n",
       "      <th></th>\n",
       "      <th>id</th>\n",
       "      <th>conversation_id</th>\n",
       "      <th>timezone</th>\n",
       "      <th>user_id</th>\n",
       "      <th>replies_count</th>\n",
       "      <th>retweets_count</th>\n",
       "      <th>likes_count</th>\n",
       "      <th>retweet</th>\n",
       "      <th>video</th>\n",
       "    </tr>\n",
       "  </thead>\n",
       "  <tbody>\n",
       "    <tr>\n",
       "      <th>id</th>\n",
       "      <td>1.000000</td>\n",
       "      <td>0.999962</td>\n",
       "      <td>NaN</td>\n",
       "      <td>-0.080080</td>\n",
       "      <td>0.061061</td>\n",
       "      <td>0.389872</td>\n",
       "      <td>0.236154</td>\n",
       "      <td>NaN</td>\n",
       "      <td>-0.048538</td>\n",
       "    </tr>\n",
       "    <tr>\n",
       "      <th>conversation_id</th>\n",
       "      <td>0.999962</td>\n",
       "      <td>1.000000</td>\n",
       "      <td>NaN</td>\n",
       "      <td>-0.080002</td>\n",
       "      <td>0.063208</td>\n",
       "      <td>0.394530</td>\n",
       "      <td>0.237648</td>\n",
       "      <td>NaN</td>\n",
       "      <td>-0.045936</td>\n",
       "    </tr>\n",
       "    <tr>\n",
       "      <th>timezone</th>\n",
       "      <td>NaN</td>\n",
       "      <td>NaN</td>\n",
       "      <td>NaN</td>\n",
       "      <td>NaN</td>\n",
       "      <td>NaN</td>\n",
       "      <td>NaN</td>\n",
       "      <td>NaN</td>\n",
       "      <td>NaN</td>\n",
       "      <td>NaN</td>\n",
       "    </tr>\n",
       "    <tr>\n",
       "      <th>user_id</th>\n",
       "      <td>-0.080080</td>\n",
       "      <td>-0.080002</td>\n",
       "      <td>NaN</td>\n",
       "      <td>1.000000</td>\n",
       "      <td>0.139806</td>\n",
       "      <td>-0.059465</td>\n",
       "      <td>0.020518</td>\n",
       "      <td>NaN</td>\n",
       "      <td>0.018992</td>\n",
       "    </tr>\n",
       "    <tr>\n",
       "      <th>replies_count</th>\n",
       "      <td>0.061061</td>\n",
       "      <td>0.063208</td>\n",
       "      <td>NaN</td>\n",
       "      <td>0.139806</td>\n",
       "      <td>1.000000</td>\n",
       "      <td>0.372678</td>\n",
       "      <td>0.474156</td>\n",
       "      <td>NaN</td>\n",
       "      <td>0.086066</td>\n",
       "    </tr>\n",
       "    <tr>\n",
       "      <th>retweets_count</th>\n",
       "      <td>0.389872</td>\n",
       "      <td>0.394530</td>\n",
       "      <td>NaN</td>\n",
       "      <td>-0.059465</td>\n",
       "      <td>0.372678</td>\n",
       "      <td>1.000000</td>\n",
       "      <td>0.390363</td>\n",
       "      <td>NaN</td>\n",
       "      <td>0.577350</td>\n",
       "    </tr>\n",
       "    <tr>\n",
       "      <th>likes_count</th>\n",
       "      <td>0.236154</td>\n",
       "      <td>0.237648</td>\n",
       "      <td>NaN</td>\n",
       "      <td>0.020518</td>\n",
       "      <td>0.474156</td>\n",
       "      <td>0.390363</td>\n",
       "      <td>1.000000</td>\n",
       "      <td>NaN</td>\n",
       "      <td>0.367279</td>\n",
       "    </tr>\n",
       "    <tr>\n",
       "      <th>retweet</th>\n",
       "      <td>NaN</td>\n",
       "      <td>NaN</td>\n",
       "      <td>NaN</td>\n",
       "      <td>NaN</td>\n",
       "      <td>NaN</td>\n",
       "      <td>NaN</td>\n",
       "      <td>NaN</td>\n",
       "      <td>NaN</td>\n",
       "      <td>NaN</td>\n",
       "    </tr>\n",
       "    <tr>\n",
       "      <th>video</th>\n",
       "      <td>-0.048538</td>\n",
       "      <td>-0.045936</td>\n",
       "      <td>NaN</td>\n",
       "      <td>0.018992</td>\n",
       "      <td>0.086066</td>\n",
       "      <td>0.577350</td>\n",
       "      <td>0.367279</td>\n",
       "      <td>NaN</td>\n",
       "      <td>1.000000</td>\n",
       "    </tr>\n",
       "  </tbody>\n",
       "</table>\n",
       "</div>"
      ],
      "text/plain": [
       "                       id  conversation_id  timezone   user_id  replies_count  \\\n",
       "id               1.000000         0.999962       NaN -0.080080       0.061061   \n",
       "conversation_id  0.999962         1.000000       NaN -0.080002       0.063208   \n",
       "timezone              NaN              NaN       NaN       NaN            NaN   \n",
       "user_id         -0.080080        -0.080002       NaN  1.000000       0.139806   \n",
       "replies_count    0.061061         0.063208       NaN  0.139806       1.000000   \n",
       "retweets_count   0.389872         0.394530       NaN -0.059465       0.372678   \n",
       "likes_count      0.236154         0.237648       NaN  0.020518       0.474156   \n",
       "retweet               NaN              NaN       NaN       NaN            NaN   \n",
       "video           -0.048538        -0.045936       NaN  0.018992       0.086066   \n",
       "\n",
       "                 retweets_count  likes_count  retweet     video  \n",
       "id                     0.389872     0.236154      NaN -0.048538  \n",
       "conversation_id        0.394530     0.237648      NaN -0.045936  \n",
       "timezone                    NaN          NaN      NaN       NaN  \n",
       "user_id               -0.059465     0.020518      NaN  0.018992  \n",
       "replies_count          0.372678     0.474156      NaN  0.086066  \n",
       "retweets_count         1.000000     0.390363      NaN  0.577350  \n",
       "likes_count            0.390363     1.000000      NaN  0.367279  \n",
       "retweet                     NaN          NaN      NaN       NaN  \n",
       "video                  0.577350     0.367279      NaN  1.000000  "
      ]
     },
     "execution_count": 67,
     "metadata": {},
     "output_type": "execute_result"
    }
   ],
   "source": [
    "df.corr()"
   ]
  },
  {
   "cell_type": "code",
   "execution_count": 28,
   "id": "cbdd2fcb",
   "metadata": {},
   "outputs": [
    {
     "data": {
      "text/html": [
       "<div>\n",
       "<style scoped>\n",
       "    .dataframe tbody tr th:only-of-type {\n",
       "        vertical-align: middle;\n",
       "    }\n",
       "\n",
       "    .dataframe tbody tr th {\n",
       "        vertical-align: top;\n",
       "    }\n",
       "\n",
       "    .dataframe thead th {\n",
       "        text-align: right;\n",
       "    }\n",
       "</style>\n",
       "<table border=\"1\" class=\"dataframe\">\n",
       "  <thead>\n",
       "    <tr style=\"text-align: right;\">\n",
       "      <th></th>\n",
       "      <th>username</th>\n",
       "      <th>tweet</th>\n",
       "      <th>replies_count</th>\n",
       "      <th>retweets_count</th>\n",
       "      <th>likes_count</th>\n",
       "    </tr>\n",
       "  </thead>\n",
       "  <tbody>\n",
       "    <tr>\n",
       "      <th>0</th>\n",
       "      <td>bagyzug</td>\n",
       "      <td>@NimwesigaBridg1 Contact me Bridget</td>\n",
       "      <td>0</td>\n",
       "      <td>0</td>\n",
       "      <td>0</td>\n",
       "    </tr>\n",
       "    <tr>\n",
       "      <th>1</th>\n",
       "      <td>talmamoureen</td>\n",
       "      <td>Nyege Nyege 2022.. We did it💪🏾💪🏾</td>\n",
       "      <td>0</td>\n",
       "      <td>0</td>\n",
       "      <td>0</td>\n",
       "    </tr>\n",
       "    <tr>\n",
       "      <th>2</th>\n",
       "      <td>saidiseiko</td>\n",
       "      <td>@JonathanSsegaw2 George Street</td>\n",
       "      <td>0</td>\n",
       "      <td>0</td>\n",
       "      <td>0</td>\n",
       "    </tr>\n",
       "    <tr>\n",
       "      <th>3</th>\n",
       "      <td>genza_innocent</td>\n",
       "      <td>@CharityKarungi_ @MaamaKampala21 @Johnlaban256...</td>\n",
       "      <td>1</td>\n",
       "      <td>0</td>\n",
       "      <td>0</td>\n",
       "    </tr>\n",
       "    <tr>\n",
       "      <th>4</th>\n",
       "      <td>the_muhseen</td>\n",
       "      <td>@moses_haonga Tafta mke akutoe nyege</td>\n",
       "      <td>0</td>\n",
       "      <td>0</td>\n",
       "      <td>0</td>\n",
       "    </tr>\n",
       "    <tr>\n",
       "      <th>...</th>\n",
       "      <td>...</td>\n",
       "      <td>...</td>\n",
       "      <td>...</td>\n",
       "      <td>...</td>\n",
       "      <td>...</td>\n",
       "    </tr>\n",
       "    <tr>\n",
       "      <th>18579</th>\n",
       "      <td>mculture0</td>\n",
       "      <td>@Bg0047 Sio ujanja wala ushamba ni nyege</td>\n",
       "      <td>0</td>\n",
       "      <td>0</td>\n",
       "      <td>1</td>\n",
       "    </tr>\n",
       "    <tr>\n",
       "      <th>18580</th>\n",
       "      <td>obotetommy1</td>\n",
       "      <td>@Joshuabasiima I see papa, don, nyege, bade, b...</td>\n",
       "      <td>0</td>\n",
       "      <td>1</td>\n",
       "      <td>5</td>\n",
       "    </tr>\n",
       "    <tr>\n",
       "      <th>18581</th>\n",
       "      <td>elijah_engola</td>\n",
       "      <td>Nyege nyege all the way</td>\n",
       "      <td>0</td>\n",
       "      <td>0</td>\n",
       "      <td>0</td>\n",
       "    </tr>\n",
       "    <tr>\n",
       "      <th>18582</th>\n",
       "      <td>lwangamundo</td>\n",
       "      <td>Valid question. Nyege pays for rent. Choose wi...</td>\n",
       "      <td>1</td>\n",
       "      <td>0</td>\n",
       "      <td>1</td>\n",
       "    </tr>\n",
       "    <tr>\n",
       "      <th>18583</th>\n",
       "      <td>malisirikye</td>\n",
       "      <td>@UgandaWaragi Hoooooooohu  Diego Costa then Ny...</td>\n",
       "      <td>0</td>\n",
       "      <td>0</td>\n",
       "      <td>1</td>\n",
       "    </tr>\n",
       "  </tbody>\n",
       "</table>\n",
       "<p>18584 rows × 5 columns</p>\n",
       "</div>"
      ],
      "text/plain": [
       "             username                                              tweet  \\\n",
       "0             bagyzug                @NimwesigaBridg1 Contact me Bridget   \n",
       "1        talmamoureen                   Nyege Nyege 2022.. We did it💪🏾💪🏾   \n",
       "2          saidiseiko                     @JonathanSsegaw2 George Street   \n",
       "3      genza_innocent  @CharityKarungi_ @MaamaKampala21 @Johnlaban256...   \n",
       "4         the_muhseen               @moses_haonga Tafta mke akutoe nyege   \n",
       "...               ...                                                ...   \n",
       "18579       mculture0           @Bg0047 Sio ujanja wala ushamba ni nyege   \n",
       "18580     obotetommy1  @Joshuabasiima I see papa, don, nyege, bade, b...   \n",
       "18581   elijah_engola                            Nyege nyege all the way   \n",
       "18582     lwangamundo  Valid question. Nyege pays for rent. Choose wi...   \n",
       "18583     malisirikye  @UgandaWaragi Hoooooooohu  Diego Costa then Ny...   \n",
       "\n",
       "       replies_count  retweets_count  likes_count  \n",
       "0                  0               0            0  \n",
       "1                  0               0            0  \n",
       "2                  0               0            0  \n",
       "3                  1               0            0  \n",
       "4                  0               0            0  \n",
       "...              ...             ...          ...  \n",
       "18579              0               0            1  \n",
       "18580              0               1            5  \n",
       "18581              0               0            0  \n",
       "18582              1               0            1  \n",
       "18583              0               0            1  \n",
       "\n",
       "[18584 rows x 5 columns]"
      ]
     },
     "execution_count": 28,
     "metadata": {},
     "output_type": "execute_result"
    }
   ],
   "source": [
    "df[[\"username\",\"tweet\",\"replies_count\",\"retweets_count\",\"likes_count\"]]"
   ]
  },
  {
   "cell_type": "code",
   "execution_count": 62,
   "id": "efe1447b",
   "metadata": {},
   "outputs": [],
   "source": [
    "#create a function to clean tweets\n",
    "def clean_txt(text):\n",
    "    text = re.sub(r\"@[A-za-z0-9]+\",\" \",text) #remove mentions \n",
    "    text = re.sub(r\"#\", \" \", text) #remove hashtag symbol\n",
    "    text = re.sub(r\"RT[\\s]+\",\" \", text) #removing rt\n",
    "    text = re.sub(r\"http[s]?\",\" \", text)\n",
    "    text = re.sub(r\":\\S+\",\" \",text)\n",
    "    \n",
    "    return text"
   ]
  },
  {
   "cell_type": "code",
   "execution_count": 63,
   "id": "4ca78216",
   "metadata": {},
   "outputs": [],
   "source": [
    "df[\"tweet\"]= df[\"tweet\"].apply(clean_txt)\n"
   ]
  },
  {
   "cell_type": "code",
   "execution_count": 9,
   "id": "6c3eb060",
   "metadata": {},
   "outputs": [
    {
     "name": "stdout",
     "output_type": "stream",
     "text": [
      "<class 'pandas.core.frame.DataFrame'>\n",
      "RangeIndex: 37104 entries, 0 to 37103\n",
      "Data columns (total 36 columns):\n",
      " #   Column           Non-Null Count  Dtype                               \n",
      "---  ------           --------------  -----                               \n",
      " 0   id               37104 non-null  int64                               \n",
      " 1   conversation_id  37104 non-null  int64                               \n",
      " 2   created_at       37104 non-null  datetime64[ns, pytz.FixedOffset(60)]\n",
      " 3   date             37104 non-null  datetime64[ns]                      \n",
      " 4   time             37104 non-null  object                              \n",
      " 5   timezone         37104 non-null  int64                               \n",
      " 6   user_id          37104 non-null  int64                               \n",
      " 7   username         37104 non-null  object                              \n",
      " 8   name             37104 non-null  object                              \n",
      " 9   place            37104 non-null  object                              \n",
      " 10  tweet            37104 non-null  object                              \n",
      " 11  language         37104 non-null  object                              \n",
      " 12  mentions         37104 non-null  object                              \n",
      " 13  urls             37104 non-null  object                              \n",
      " 14  photos           37104 non-null  object                              \n",
      " 15  replies_count    37104 non-null  int64                               \n",
      " 16  retweets_count   37104 non-null  int64                               \n",
      " 17  likes_count      37104 non-null  int64                               \n",
      " 18  hashtags         37104 non-null  object                              \n",
      " 19  cashtags         37104 non-null  object                              \n",
      " 20  link             37104 non-null  object                              \n",
      " 21  retweet          37104 non-null  bool                                \n",
      " 22  quote_url        37104 non-null  object                              \n",
      " 23  video            37104 non-null  int64                               \n",
      " 24  thumbnail        37104 non-null  object                              \n",
      " 25  near             37104 non-null  object                              \n",
      " 26  geo              37104 non-null  object                              \n",
      " 27  source           37104 non-null  object                              \n",
      " 28  user_rt_id       37104 non-null  object                              \n",
      " 29  user_rt          37104 non-null  object                              \n",
      " 30  retweet_id       37104 non-null  object                              \n",
      " 31  reply_to         37104 non-null  object                              \n",
      " 32  retweet_date     37104 non-null  object                              \n",
      " 33  translate        37104 non-null  object                              \n",
      " 34  trans_src        37104 non-null  object                              \n",
      " 35  trans_dest       37104 non-null  object                              \n",
      "dtypes: bool(1), datetime64[ns, pytz.FixedOffset(60)](1), datetime64[ns](1), int64(8), object(25)\n",
      "memory usage: 9.9+ MB\n"
     ]
    }
   ],
   "source": [
    "df.info()"
   ]
  },
  {
   "cell_type": "code",
   "execution_count": 69,
   "id": "48e9aa63",
   "metadata": {
    "scrolled": true
   },
   "outputs": [
    {
     "data": {
      "text/html": [
       "<div>\n",
       "<style scoped>\n",
       "    .dataframe tbody tr th:only-of-type {\n",
       "        vertical-align: middle;\n",
       "    }\n",
       "\n",
       "    .dataframe tbody tr th {\n",
       "        vertical-align: top;\n",
       "    }\n",
       "\n",
       "    .dataframe thead th {\n",
       "        text-align: right;\n",
       "    }\n",
       "</style>\n",
       "<table border=\"1\" class=\"dataframe\">\n",
       "  <thead>\n",
       "    <tr style=\"text-align: right;\">\n",
       "      <th></th>\n",
       "      <th>user_id</th>\n",
       "      <th>replies_count</th>\n",
       "      <th>retweets_count</th>\n",
       "    </tr>\n",
       "    <tr>\n",
       "      <th>likes_count</th>\n",
       "      <th></th>\n",
       "      <th></th>\n",
       "      <th></th>\n",
       "    </tr>\n",
       "  </thead>\n",
       "  <tbody>\n",
       "    <tr>\n",
       "      <th>0</th>\n",
       "      <td>1.047542e+18</td>\n",
       "      <td>0.000</td>\n",
       "      <td>0.500</td>\n",
       "    </tr>\n",
       "    <tr>\n",
       "      <th>1</th>\n",
       "      <td>8.852119e+17</td>\n",
       "      <td>0.625</td>\n",
       "      <td>0.375</td>\n",
       "    </tr>\n",
       "    <tr>\n",
       "      <th>2</th>\n",
       "      <td>9.857172e+17</td>\n",
       "      <td>0.800</td>\n",
       "      <td>0.600</td>\n",
       "    </tr>\n",
       "    <tr>\n",
       "      <th>3</th>\n",
       "      <td>1.255772e+18</td>\n",
       "      <td>1.000</td>\n",
       "      <td>3.000</td>\n",
       "    </tr>\n",
       "  </tbody>\n",
       "</table>\n",
       "</div>"
      ],
      "text/plain": [
       "                  user_id  replies_count  retweets_count\n",
       "likes_count                                             \n",
       "0            1.047542e+18          0.000           0.500\n",
       "1            8.852119e+17          0.625           0.375\n",
       "2            9.857172e+17          0.800           0.600\n",
       "3            1.255772e+18          1.000           3.000"
      ]
     },
     "execution_count": 69,
     "metadata": {},
     "output_type": "execute_result"
    }
   ],
   "source": [
    "df[[\"user_id\",\"username\",\"tweet\",\"replies_count\",\"retweets_count\",\"likes_count\"]].groupby(\"likes_count\").mean()"
   ]
  },
  {
   "cell_type": "code",
   "execution_count": 11,
   "id": "aa1832a3",
   "metadata": {},
   "outputs": [],
   "source": [
    "df.to_csv(\"Amapiano_ready.csv\")\n"
   ]
  },
  {
   "cell_type": "code",
   "execution_count": 34,
   "id": "281ebd51",
   "metadata": {},
   "outputs": [
    {
     "data": {
      "text/plain": [
       "18584"
      ]
     },
     "execution_count": 34,
     "metadata": {},
     "output_type": "execute_result"
    }
   ],
   "source": [
    "df[\"language\"].value_co"
   ]
  },
  {
   "cell_type": "code",
   "execution_count": 13,
   "id": "c719652b",
   "metadata": {},
   "outputs": [
    {
     "data": {
      "text/plain": [
       "'/Users/mugzi/data_sets_analysis'"
      ]
     },
     "execution_count": 13,
     "metadata": {},
     "output_type": "execute_result"
    }
   ],
   "source": [
    "import os\n",
    "os.getcwd()"
   ]
  },
  {
   "cell_type": "code",
   "execution_count": 65,
   "id": "e2531ec8",
   "metadata": {},
   "outputs": [
    {
     "data": {
      "image/png": "[encoded data removed]",
      "text/plain": [
       "<Figure size 432x288 with 1 Axes>"
      ]
     },
     "metadata": {
      "needs_background": "light"
     },
     "output_type": "display_data"
    }
   ],
   "source": [
    "allwords = \" \". join([twts for twts in df[\"tweet\"]])\n",
    "wordcloud = WordCloud(width=500,height=300,random_state=21,max_font_size=119).generate(allwords)\n",
    "plt.imshow(wordcloud, interpolation =\"bilinear\")\n",
    "plt.axis(\"off\")\n",
    "plt.show()"
   ]
  },
  {
   "cell_type": "code",
   "execution_count": 15,
   "id": "8fd799e2",
   "metadata": {},
   "outputs": [
    {
     "name": "stdout",
     "output_type": "stream",
     "text": [
      "This is a text with a URL  to remove.\n",
      "This is a text with a URL  to remove.\n",
      "This is a text with a URL  to remove.\n"
     ]
    }
   ],
   "source": [
    "import re\n",
    "t =\"This is a text with a URL https://www.java2blog.com/ to remove.\"\n",
    "s1 = re.sub('http://\\S+|https://\\S+', '', t)\n",
    "s2 = re.sub('http[s]?://\\S+', '', t)\n",
    "s3 = re.sub(r\"http\\S+\", \"\", t)\n",
    "print(s1)\n",
    "print(s2)\n",
    "print(s3)"
   ]
  },
  {
   "cell_type": "code",
   "execution_count": 16,
   "id": "29e83955",
   "metadata": {},
   "outputs": [
    {
     "data": {
      "text/plain": [
       "Index(['id', 'conversation_id', 'created_at', 'date', 'time', 'timezone',\n",
       "       'user_id', 'username', 'name', 'place', 'tweet', 'language', 'mentions',\n",
       "       'urls', 'photos', 'replies_count', 'retweets_count', 'likes_count',\n",
       "       'hashtags', 'cashtags', 'link', 'retweet', 'quote_url', 'video',\n",
       "       'thumbnail', 'near', 'geo', 'source', 'user_rt_id', 'user_rt',\n",
       "       'retweet_id', 'reply_to', 'retweet_date', 'translate', 'trans_src',\n",
       "       'trans_dest'],\n",
       "      dtype='object')"
      ]
     },
     "execution_count": 16,
     "metadata": {},
     "output_type": "execute_result"
    }
   ],
   "source": [
    "df.columns"
   ]
  },
  {
   "cell_type": "code",
   "execution_count": 56,
   "id": "558fa203",
   "metadata": {},
   "outputs": [],
   "source": [
    "x= df[\"replies_count\"]\n",
    "y= df[\"language\"]"
   ]
  },
  {
   "cell_type": "code",
   "execution_count": 57,
   "id": "08a2cec1",
   "metadata": {},
   "outputs": [
    {
     "data": {
      "image/png": "[encoded data removed]",
      "text/plain": [
       "<Figure size 504x504 with 1 Axes>"
      ]
     },
     "metadata": {
      "needs_background": "light"
     },
     "output_type": "display_data"
    }
   ],
   "source": [
    "plt.figure(figsize=(7,7))\n",
    "plt.stem(y,x,linefmt=\":\",markerfmt=\"X\",bottom=np.nanmean(x),use_line_collection=False)\n",
    "plt.title(\"Median Price /Yield\")\n",
    "plt.xlabel(\"replies_count\")\n",
    "plt.ylabel(\"language\")\n",
    "plt.grid(alpha=0.3)\n",
    "plt.show()"
   ]
  },
  {
   "cell_type": "code",
   "execution_count": null,
   "id": "c01a94e1",
   "metadata": {},
   "outputs": [],
   "source": [
    "\n"
   ]
  },
  {
   "cell_type": "code",
   "execution_count": 78,
   "id": "d0a99588",
   "metadata": {},
   "outputs": [
    {
     "data": {
      "text/plain": [
       "[[],\n",
       " [],\n",
       " [],\n",
       " [],\n",
       " [],\n",
       " [],\n",
       " [],\n",
       " [],\n",
       " [],\n",
       " [],\n",
       " [],\n",
       " [],\n",
       " [],\n",
       " [],\n",
       " [],\n",
       " [],\n",
       " [],\n",
       " [],\n",
       " [],\n",
       " []]"
      ]
     },
     "execution_count": 78,
     "metadata": {},
     "output_type": "execute_result"
    }
   ],
   "source": [
    "clean_hashtags"
   ]
  },
  {
   "cell_type": "code",
   "execution_count": null,
   "id": "46f1ae8f",
   "metadata": {},
   "outputs": [],
   "source": []
  }
 ],
 "metadata": {
  "kernelspec": {
   "display_name": "Python 3 (ipykernel)",
   "language": "python",
   "name": "python3"
  },
  "language_info": {
   "codemirror_mode": {
    "name": "ipython",
    "version": 3
   },
   "file_extension": ".py",
   "mimetype": "text/x-python",
   "name": "python",
   "nbconvert_exporter": "python",
   "pygments_lexer": "ipython3",
   "version": "3.10.0"
  }
 },
 "nbformat": 4,
 "nbformat_minor": 5
}
